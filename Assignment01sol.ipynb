{
 "cells": [
  {
   "cell_type": "markdown",
   "metadata": {},
   "source": [
    "<img src=\"http://cfs22.simplicdn.net/ice9/new_logo.svgz \"/>\n",
    "\n",
    "# Assignment 01: Evaluate the GDP Dataset\n",
    "\n",
    "*The comments/sections provided are your cues to perform the assignment. You don't need to limit yourself to the number of rows/cells provided. You can add additional rows in each section to add more lines of code.*\n",
    "\n",
    "*If at any point in time you need help on solving this assignment, view our demo video to understand the different steps of the code.*\n",
    "\n",
    "**Happy coding!**\n",
    "\n",
    "* * *"
   ]
  },
  {
   "cell_type": "markdown",
   "metadata": {},
   "source": [
    "#### 1: View and add the dataset"
   ]
  },
  {
   "cell_type": "code",
   "execution_count": 1,
   "metadata": {},
   "outputs": [],
   "source": [
    "#Import required library\n",
    "import numpy as np"
   ]
  },
  {
   "cell_type": "code",
   "execution_count": 2,
   "metadata": {},
   "outputs": [],
   "source": [
    "#Manually add the dataset\n",
    "countries  = np.array(['Algeria','Angola','Argentina','Australia','Austria','Bahamas','Bangladesh','Belarus','Belgium','Bhutan','Brazil',\n",
    "                       'Bulgaria','Cambodia','Cameroon','Chile','China','Colombia','Cyprus','Denmark','El Salvador','Estonia','Ethiopia',\n",
    "                       'Fiji','Finland','France','Georgia','Ghana','Grenada','Guinea','Haiti','Honduras','Hungary','India','Indonesia',\n",
    "                       'Ireland','Italy','Japan','Kenya', 'South Korea','Liberia','Malaysia','Mexico', 'Morocco','Nepal','New Zealand',\n",
    "                       'Norway','Pakistan', 'Peru','Qatar','Russia','Singapore','South Africa','Spain','Sweden','Switzerland',\n",
    "                       'Thailand', 'United Arab Emirates','United Kingdom','United States','Uruguay','Venezuela','Vietnam','Zimbabwe'])"
   ]
  },
  {
   "cell_type": "code",
   "execution_count": 3,
   "metadata": {},
   "outputs": [],
   "source": [
    "country_gdp = np.array([2255.225482,629.9553062,11601.63022,25306.82494,27266.40335,19466.99052,588.3691778,2890.345675,\n",
    "                        24733.62696,1445.760002,4803.398244,2618.876037,590.4521124,665.7982328,7122.938458,2639.54156,\n",
    "                        3362.4656,15378.16704,30860.12808,2579.115607,6525.541272,229.6769525,2242.689259,27570.4852,\n",
    "                        23016.84778,1334.646773,402.6953275,6047.200797,394.1156638,385.5793827,1414.072488,5745.981529,\n",
    "                        837.7464011,1206.991065,27715.52837,18937.24998,39578.07441,478.2194906,16684.21278,279.2204061,\n",
    "                        5345.213415,6288.25324,1908.304416,274.8728621,14646.42094,40034.85063,672.1547506,3359.517402,\n",
    "                        36152.66676,3054.727742,33529.83052,3825.093781,15428.32098,33630.24604,39170.41371,2699.123242,\n",
    "                        21058.43643,28272.40661,37691.02733,9581.05659,5671.912202,757.4009286,347.7456605])"
   ]
  },
  {
   "cell_type": "markdown",
   "metadata": {
    "collapsed": true
   },
   "source": [
    "#### 2: Find and print the name of the country with the highest GDP"
   ]
  },
  {
   "cell_type": "code",
   "execution_count": 34,
   "metadata": {},
   "outputs": [
    {
     "name": "stdout",
     "output_type": "stream",
     "text": [
      "45\n"
     ]
    }
   ],
   "source": [
    "#Use the argmax() method to find the highest GDP\n",
    "country_grd_high = country_gdp.argmax()\n",
    "print(country_grd_high)"
   ]
  },
  {
   "cell_type": "code",
   "execution_count": 70,
   "metadata": {},
   "outputs": [
    {
     "data": {
      "text/plain": [
       "63"
      ]
     },
     "execution_count": 70,
     "metadata": {},
     "output_type": "execute_result"
    }
   ],
   "source": [
    "x = len(countries) ## len find total number of elemenst in array\n",
    "x"
   ]
  },
  {
   "cell_type": "code",
   "execution_count": 71,
   "metadata": {},
   "outputs": [
    {
     "name": "stdout",
     "output_type": "stream",
     "text": [
      "Name of Highested GDP country is ['Norway']\n"
     ]
    }
   ],
   "source": [
    "high_gdp = country_gdp.max()\n",
    "for i in range(x):\n",
    "    country = [countries[i]]\n",
    "    gdp = [country_gdp[i]]\n",
    "    if gdp == high_gdp:\n",
    "        print(\"Name of Highested GDP country is\",country)"
   ]
  },
  {
   "cell_type": "code",
   "execution_count": 10,
   "metadata": {},
   "outputs": [
    {
     "name": "stdout",
     "output_type": "stream",
     "text": [
      "Norway\n"
     ]
    }
   ],
   "source": [
    "#Print the name of the country\n",
    "country_with_max_gdp = countries[country_grd_high]\n",
    "print(country_with_max_gdp)"
   ]
  },
  {
   "cell_type": "markdown",
   "metadata": {},
   "source": [
    "#### 3: Find and print the name of the country with the lowest GDP"
   ]
  },
  {
   "cell_type": "code",
   "execution_count": 11,
   "metadata": {},
   "outputs": [],
   "source": [
    "#Use the argmin() method to find the lowest GDP\n",
    "country_with_min_gdp = country_gdp.argmin()"
   ]
  },
  {
   "cell_type": "code",
   "execution_count": 14,
   "metadata": {},
   "outputs": [
    {
     "name": "stdout",
     "output_type": "stream",
     "text": [
      "Ethiopia\n"
     ]
    }
   ],
   "source": [
    "#Print the name of the country\n",
    "country_with_min_gdp_name = countries[country_with_min_gdp]\n",
    "print(country_with_min_gdp_name)"
   ]
  },
  {
   "cell_type": "markdown",
   "metadata": {},
   "source": [
    "#### 4: Print out text ('evaluating country') and input value ('country name') iteratively"
   ]
  },
  {
   "cell_type": "code",
   "execution_count": 23,
   "metadata": {},
   "outputs": [
    {
     "name": "stdout",
     "output_type": "stream",
     "text": [
      "ecaluating country Algeria\n",
      "ecaluating country Angola\n",
      "ecaluating country Argentina\n",
      "ecaluating country Australia\n",
      "ecaluating country Austria\n",
      "ecaluating country Bahamas\n",
      "ecaluating country Bangladesh\n",
      "ecaluating country Belarus\n",
      "ecaluating country Belgium\n",
      "ecaluating country Bhutan\n",
      "ecaluating country Brazil\n",
      "ecaluating country Bulgaria\n",
      "ecaluating country Cambodia\n",
      "ecaluating country Cameroon\n",
      "ecaluating country Chile\n",
      "ecaluating country China\n",
      "ecaluating country Colombia\n",
      "ecaluating country Cyprus\n",
      "ecaluating country Denmark\n",
      "ecaluating country El Salvador\n",
      "ecaluating country Estonia\n",
      "ecaluating country Ethiopia\n",
      "ecaluating country Fiji\n",
      "ecaluating country Finland\n",
      "ecaluating country France\n",
      "ecaluating country Georgia\n",
      "ecaluating country Ghana\n",
      "ecaluating country Grenada\n",
      "ecaluating country Guinea\n",
      "ecaluating country Haiti\n",
      "ecaluating country Honduras\n",
      "ecaluating country Hungary\n",
      "ecaluating country India\n",
      "ecaluating country Indonesia\n",
      "ecaluating country Ireland\n",
      "ecaluating country Italy\n",
      "ecaluating country Japan\n",
      "ecaluating country Kenya\n",
      "ecaluating country South Korea\n",
      "ecaluating country Liberia\n",
      "ecaluating country Malaysia\n",
      "ecaluating country Mexico\n",
      "ecaluating country Morocco\n",
      "ecaluating country Nepal\n",
      "ecaluating country New Zealand\n",
      "ecaluating country Norway\n",
      "ecaluating country Pakistan\n",
      "ecaluating country Peru\n",
      "ecaluating country Qatar\n",
      "ecaluating country Russia\n",
      "ecaluating country Singapore\n",
      "ecaluating country South Africa\n",
      "ecaluating country Spain\n",
      "ecaluating country Sweden\n",
      "ecaluating country Switzerland\n",
      "ecaluating country Thailand\n",
      "ecaluating country United Arab Emirates\n",
      "ecaluating country United Kingdom\n",
      "ecaluating country United States\n",
      "ecaluating country Uruguay\n",
      "ecaluating country Venezuela\n",
      "ecaluating country Vietnam\n",
      "ecaluating country Zimbabwe\n"
     ]
    }
   ],
   "source": [
    "#Use a for loop to print the required output\n",
    "for country in countries:\n",
    "    print ('ecaluating country {}'.format(country))"
   ]
  },
  {
   "cell_type": "markdown",
   "metadata": {},
   "source": [
    "#### 5: Print out the entire list of the countries with their GDPs"
   ]
  },
  {
   "cell_type": "code",
   "execution_count": 33,
   "metadata": {},
   "outputs": [
    {
     "name": "stdout",
     "output_type": "stream",
     "text": [
      " country Algeria per capita GDP is 2255.225482\n",
      " country Angola per capita GDP is 629.9553062\n",
      " country Argentina per capita GDP is 11601.63022\n",
      " country Australia per capita GDP is 25306.82494\n",
      " country Austria per capita GDP is 27266.40335\n",
      " country Bahamas per capita GDP is 19466.99052\n",
      " country Bangladesh per capita GDP is 588.3691778\n",
      " country Belarus per capita GDP is 2890.345675\n",
      " country Belgium per capita GDP is 24733.62696\n",
      " country Bhutan per capita GDP is 1445.760002\n",
      " country Brazil per capita GDP is 4803.398244\n",
      " country Bulgaria per capita GDP is 2618.876037\n",
      " country Cambodia per capita GDP is 590.4521124\n",
      " country Cameroon per capita GDP is 665.7982328\n",
      " country Chile per capita GDP is 7122.938458\n",
      " country China per capita GDP is 2639.54156\n",
      " country Colombia per capita GDP is 3362.4656\n",
      " country Cyprus per capita GDP is 15378.16704\n",
      " country Denmark per capita GDP is 30860.12808\n",
      " country El Salvador per capita GDP is 2579.115607\n",
      " country Estonia per capita GDP is 6525.541272\n",
      " country Ethiopia per capita GDP is 229.6769525\n",
      " country Fiji per capita GDP is 2242.689259\n",
      " country Finland per capita GDP is 27570.4852\n",
      " country France per capita GDP is 23016.84778\n",
      " country Georgia per capita GDP is 1334.646773\n",
      " country Ghana per capita GDP is 402.6953275\n",
      " country Grenada per capita GDP is 6047.200797\n",
      " country Guinea per capita GDP is 394.1156638\n",
      " country Haiti per capita GDP is 385.5793827\n",
      " country Honduras per capita GDP is 1414.072488\n",
      " country Hungary per capita GDP is 5745.981529\n",
      " country India per capita GDP is 837.7464011\n",
      " country Indonesia per capita GDP is 1206.991065\n",
      " country Ireland per capita GDP is 27715.52837\n",
      " country Italy per capita GDP is 18937.24998\n",
      " country Japan per capita GDP is 39578.07441\n",
      " country Kenya per capita GDP is 478.2194906\n",
      " country South Korea per capita GDP is 16684.21278\n",
      " country Liberia per capita GDP is 279.2204061\n",
      " country Malaysia per capita GDP is 5345.213415\n",
      " country Mexico per capita GDP is 6288.25324\n",
      " country Morocco per capita GDP is 1908.304416\n",
      " country Nepal per capita GDP is 274.8728621\n",
      " country New Zealand per capita GDP is 14646.42094\n",
      " country Norway per capita GDP is 40034.85063\n",
      " country Pakistan per capita GDP is 672.1547506\n",
      " country Peru per capita GDP is 3359.517402\n",
      " country Qatar per capita GDP is 36152.66676\n",
      " country Russia per capita GDP is 3054.727742\n",
      " country Singapore per capita GDP is 33529.83052\n",
      " country South Africa per capita GDP is 3825.093781\n",
      " country Spain per capita GDP is 15428.32098\n",
      " country Sweden per capita GDP is 33630.24604\n",
      " country Switzerland per capita GDP is 39170.41371\n",
      " country Thailand per capita GDP is 2699.123242\n",
      " country United Arab Emirates per capita GDP is 21058.43643\n",
      " country United Kingdom per capita GDP is 28272.40661\n",
      " country United States per capita GDP is 37691.02733\n",
      " country Uruguay per capita GDP is 9581.05659\n",
      " country Venezuela per capita GDP is 5671.912202\n",
      " country Vietnam per capita GDP is 757.4009286\n",
      " country Zimbabwe per capita GDP is 347.7456605\n"
     ]
    }
   ],
   "source": [
    "#Use a for loop to print the required list\n",
    "for i in range(len(countries)):\n",
    "    country = countries[i]\n",
    "    gdp = country_gdp[i]\n",
    "    print (\" country {} per capita GDP is {}\".format(country,gdp))"
   ]
  },
  {
   "cell_type": "markdown",
   "metadata": {},
   "source": [
    "#### 6: Print the following:\n",
    "1. Highest GPD value\n",
    "2. Lowest GDP value\n",
    "3. Mean GDP value\n",
    "4. Standardized GDP value\n",
    "5. Sum of all the GDPs"
   ]
  },
  {
   "cell_type": "code",
   "execution_count": 35,
   "metadata": {},
   "outputs": [
    {
     "data": {
      "text/plain": [
       "40034.85063"
      ]
     },
     "execution_count": 35,
     "metadata": {},
     "output_type": "execute_result"
    }
   ],
   "source": [
    "country_gdp.max()"
   ]
  },
  {
   "cell_type": "code",
   "execution_count": 36,
   "metadata": {},
   "outputs": [
    {
     "data": {
      "text/plain": [
       "229.6769525"
      ]
     },
     "execution_count": 36,
     "metadata": {},
     "output_type": "execute_result"
    }
   ],
   "source": [
    "country_gdp.min()"
   ]
  },
  {
   "cell_type": "code",
   "execution_count": 38,
   "metadata": {},
   "outputs": [
    {
     "data": {
      "text/plain": [
       "11289.409271639683"
      ]
     },
     "execution_count": 38,
     "metadata": {},
     "output_type": "execute_result"
    }
   ],
   "source": [
    "country_gdp.mean()"
   ]
  },
  {
   "cell_type": "code",
   "execution_count": 39,
   "metadata": {},
   "outputs": [
    {
     "data": {
      "text/plain": [
       "12743.828910617945"
      ]
     },
     "execution_count": 39,
     "metadata": {},
     "output_type": "execute_result"
    }
   ],
   "source": [
    "country_gdp.std()"
   ]
  },
  {
   "cell_type": "code",
   "execution_count": 40,
   "metadata": {},
   "outputs": [
    {
     "data": {
      "text/plain": [
       "711232.7841133"
      ]
     },
     "execution_count": 40,
     "metadata": {},
     "output_type": "execute_result"
    }
   ],
   "source": [
    "country_gdp.sum()"
   ]
  },
  {
   "cell_type": "code",
   "execution_count": null,
   "metadata": {},
   "outputs": [],
   "source": []
  }
 ],
 "metadata": {
  "kernelspec": {
   "display_name": "Python 3",
   "language": "python",
   "name": "python3"
  },
  "language_info": {
   "codemirror_mode": {
    "name": "ipython",
    "version": 3
   },
   "file_extension": ".py",
   "mimetype": "text/x-python",
   "name": "python",
   "nbconvert_exporter": "python",
   "pygments_lexer": "ipython3",
   "version": "3.7.1"
  }
 },
 "nbformat": 4,
 "nbformat_minor": 1
}
